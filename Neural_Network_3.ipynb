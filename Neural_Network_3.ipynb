{
  "cells": [
    {
      "cell_type": "markdown",
      "metadata": {
        "id": "view-in-github",
        "colab_type": "text"
      },
      "source": [
        "<a href=\"https://colab.research.google.com/github/Flugrael/Admission_University/blob/main/Neural_Network_3.ipynb\" target=\"_parent\"><img src=\"https://colab.research.google.com/assets/colab-badge.svg\" alt=\"Open In Colab\"/></a>"
      ]
    },
    {
      "cell_type": "code",
      "execution_count": null,
      "id": "bb0d344f-7659-4d54-be94-b15c24500cc0",
      "metadata": {
        "colab": {
          "base_uri": "https://localhost:8080/"
        },
        "id": "bb0d344f-7659-4d54-be94-b15c24500cc0",
        "outputId": "20a8e66a-aa39-4f9d-c484-d003e2903812"
      },
      "outputs": [
        {
          "output_type": "stream",
          "name": "stdout",
          "text": [
            "2.8.2\n"
          ]
        }
      ],
      "source": [
        "import tensorflow as tf\n",
        "\n",
        "# Helper libraries\n",
        "import numpy as np\n",
        "import matplotlib.pyplot as plt\n",
        "import pandas as pd\n",
        "import sklearn\n",
        "import warnings\n",
        "warnings.filterwarnings('ignore')\n",
        "\n",
        "print(tf.__version__)"
      ]
    },
    {
      "cell_type": "code",
      "source": [
        "df['sel']"
      ],
      "metadata": {
        "colab": {
          "base_uri": "https://localhost:8080/",
          "height": 164
        },
        "id": "_LbJ7Y-LzVm_",
        "outputId": "09bfe519-cc07-4560-d6a0-3cf30129e341"
      },
      "id": "_LbJ7Y-LzVm_",
      "execution_count": null,
      "outputs": [
        {
          "output_type": "error",
          "ename": "NameError",
          "evalue": "ignored",
          "traceback": [
            "\u001b[0;31m---------------------------------------------------------------------------\u001b[0m",
            "\u001b[0;31mNameError\u001b[0m                                 Traceback (most recent call last)",
            "\u001b[0;32m<ipython-input-4-06a79447ead0>\u001b[0m in \u001b[0;36m<module>\u001b[0;34m()\u001b[0m\n\u001b[0;32m----> 1\u001b[0;31m \u001b[0mdf\u001b[0m\u001b[0;34m[\u001b[0m\u001b[0;34m'sel'\u001b[0m\u001b[0;34m]\u001b[0m\u001b[0;34m\u001b[0m\u001b[0;34m\u001b[0m\u001b[0m\n\u001b[0m",
            "\u001b[0;31mNameError\u001b[0m: name 'df' is not defined"
          ]
        }
      ]
    },
    {
      "cell_type": "code",
      "execution_count": null,
      "id": "ac519a4c-18d1-4a45-a251-423b571a3f2c",
      "metadata": {
        "id": "ac519a4c-18d1-4a45-a251-423b571a3f2c",
        "outputId": "63b8d187-51b6-4d10-8c5f-9f82e89a84b2",
        "colab": {
          "base_uri": "https://localhost:8080/",
          "height": 392
        }
      },
      "outputs": [
        {
          "output_type": "error",
          "ename": "FileNotFoundError",
          "evalue": "ignored",
          "traceback": [
            "\u001b[0;31m---------------------------------------------------------------------------\u001b[0m",
            "\u001b[0;31mFileNotFoundError\u001b[0m                         Traceback (most recent call last)",
            "\u001b[0;32m<ipython-input-5-434903c5f3db>\u001b[0m in \u001b[0;36m<module>\u001b[0;34m()\u001b[0m\n\u001b[1;32m      1\u001b[0m \u001b[0;34m\u001b[0m\u001b[0m\n\u001b[0;32m----> 2\u001b[0;31m \u001b[0mdf\u001b[0m \u001b[0;34m=\u001b[0m \u001b[0mpd\u001b[0m\u001b[0;34m.\u001b[0m\u001b[0mread_csv\u001b[0m\u001b[0;34m(\u001b[0m\u001b[0;34m\"/content/data (1).csv\"\u001b[0m\u001b[0;34m,\u001b[0m \u001b[0mindex_col\u001b[0m \u001b[0;34m=\u001b[0m \u001b[0;36m0\u001b[0m\u001b[0;34m)\u001b[0m\u001b[0;34m\u001b[0m\u001b[0;34m\u001b[0m\u001b[0m\n\u001b[0m\u001b[1;32m      3\u001b[0m \u001b[0mdf\u001b[0m \u001b[0;34m=\u001b[0m \u001b[0mdf\u001b[0m\u001b[0;34m.\u001b[0m\u001b[0mhead\u001b[0m\u001b[0;34m(\u001b[0m\u001b[0;36m1500\u001b[0m\u001b[0;34m)\u001b[0m\u001b[0;34m\u001b[0m\u001b[0;34m\u001b[0m\u001b[0m\n\u001b[1;32m      4\u001b[0m \u001b[0;34m\u001b[0m\u001b[0m\n\u001b[1;32m      5\u001b[0m \u001b[0mdf\u001b[0m\u001b[0;34m.\u001b[0m\u001b[0mloc\u001b[0m\u001b[0;34m[\u001b[0m\u001b[0mdf\u001b[0m\u001b[0;34m.\u001b[0m\u001b[0msel\u001b[0m \u001b[0;34m==\u001b[0m \u001b[0;34m'aufgenommen'\u001b[0m\u001b[0;34m,\u001b[0m \u001b[0;34m'sel'\u001b[0m\u001b[0;34m]\u001b[0m  \u001b[0;34m=\u001b[0m \u001b[0;36m1\u001b[0m\u001b[0;34m\u001b[0m\u001b[0;34m\u001b[0m\u001b[0m\n",
            "\u001b[0;32m/usr/local/lib/python3.7/dist-packages/pandas/util/_decorators.py\u001b[0m in \u001b[0;36mwrapper\u001b[0;34m(*args, **kwargs)\u001b[0m\n\u001b[1;32m    309\u001b[0m                     \u001b[0mstacklevel\u001b[0m\u001b[0;34m=\u001b[0m\u001b[0mstacklevel\u001b[0m\u001b[0;34m,\u001b[0m\u001b[0;34m\u001b[0m\u001b[0;34m\u001b[0m\u001b[0m\n\u001b[1;32m    310\u001b[0m                 )\n\u001b[0;32m--> 311\u001b[0;31m             \u001b[0;32mreturn\u001b[0m \u001b[0mfunc\u001b[0m\u001b[0;34m(\u001b[0m\u001b[0;34m*\u001b[0m\u001b[0margs\u001b[0m\u001b[0;34m,\u001b[0m \u001b[0;34m**\u001b[0m\u001b[0mkwargs\u001b[0m\u001b[0;34m)\u001b[0m\u001b[0;34m\u001b[0m\u001b[0;34m\u001b[0m\u001b[0m\n\u001b[0m\u001b[1;32m    312\u001b[0m \u001b[0;34m\u001b[0m\u001b[0m\n\u001b[1;32m    313\u001b[0m         \u001b[0;32mreturn\u001b[0m \u001b[0mwrapper\u001b[0m\u001b[0;34m\u001b[0m\u001b[0;34m\u001b[0m\u001b[0m\n",
            "\u001b[0;32m/usr/local/lib/python3.7/dist-packages/pandas/io/parsers/readers.py\u001b[0m in \u001b[0;36mread_csv\u001b[0;34m(filepath_or_buffer, sep, delimiter, header, names, index_col, usecols, squeeze, prefix, mangle_dupe_cols, dtype, engine, converters, true_values, false_values, skipinitialspace, skiprows, skipfooter, nrows, na_values, keep_default_na, na_filter, verbose, skip_blank_lines, parse_dates, infer_datetime_format, keep_date_col, date_parser, dayfirst, cache_dates, iterator, chunksize, compression, thousands, decimal, lineterminator, quotechar, quoting, doublequote, escapechar, comment, encoding, encoding_errors, dialect, error_bad_lines, warn_bad_lines, on_bad_lines, delim_whitespace, low_memory, memory_map, float_precision, storage_options)\u001b[0m\n\u001b[1;32m    584\u001b[0m     \u001b[0mkwds\u001b[0m\u001b[0;34m.\u001b[0m\u001b[0mupdate\u001b[0m\u001b[0;34m(\u001b[0m\u001b[0mkwds_defaults\u001b[0m\u001b[0;34m)\u001b[0m\u001b[0;34m\u001b[0m\u001b[0;34m\u001b[0m\u001b[0m\n\u001b[1;32m    585\u001b[0m \u001b[0;34m\u001b[0m\u001b[0m\n\u001b[0;32m--> 586\u001b[0;31m     \u001b[0;32mreturn\u001b[0m \u001b[0m_read\u001b[0m\u001b[0;34m(\u001b[0m\u001b[0mfilepath_or_buffer\u001b[0m\u001b[0;34m,\u001b[0m \u001b[0mkwds\u001b[0m\u001b[0;34m)\u001b[0m\u001b[0;34m\u001b[0m\u001b[0;34m\u001b[0m\u001b[0m\n\u001b[0m\u001b[1;32m    587\u001b[0m \u001b[0;34m\u001b[0m\u001b[0m\n\u001b[1;32m    588\u001b[0m \u001b[0;34m\u001b[0m\u001b[0m\n",
            "\u001b[0;32m/usr/local/lib/python3.7/dist-packages/pandas/io/parsers/readers.py\u001b[0m in \u001b[0;36m_read\u001b[0;34m(filepath_or_buffer, kwds)\u001b[0m\n\u001b[1;32m    480\u001b[0m \u001b[0;34m\u001b[0m\u001b[0m\n\u001b[1;32m    481\u001b[0m     \u001b[0;31m# Create the parser.\u001b[0m\u001b[0;34m\u001b[0m\u001b[0;34m\u001b[0m\u001b[0;34m\u001b[0m\u001b[0m\n\u001b[0;32m--> 482\u001b[0;31m     \u001b[0mparser\u001b[0m \u001b[0;34m=\u001b[0m \u001b[0mTextFileReader\u001b[0m\u001b[0;34m(\u001b[0m\u001b[0mfilepath_or_buffer\u001b[0m\u001b[0;34m,\u001b[0m \u001b[0;34m**\u001b[0m\u001b[0mkwds\u001b[0m\u001b[0;34m)\u001b[0m\u001b[0;34m\u001b[0m\u001b[0;34m\u001b[0m\u001b[0m\n\u001b[0m\u001b[1;32m    483\u001b[0m \u001b[0;34m\u001b[0m\u001b[0m\n\u001b[1;32m    484\u001b[0m     \u001b[0;32mif\u001b[0m \u001b[0mchunksize\u001b[0m \u001b[0;32mor\u001b[0m \u001b[0miterator\u001b[0m\u001b[0;34m:\u001b[0m\u001b[0;34m\u001b[0m\u001b[0;34m\u001b[0m\u001b[0m\n",
            "\u001b[0;32m/usr/local/lib/python3.7/dist-packages/pandas/io/parsers/readers.py\u001b[0m in \u001b[0;36m__init__\u001b[0;34m(self, f, engine, **kwds)\u001b[0m\n\u001b[1;32m    809\u001b[0m             \u001b[0mself\u001b[0m\u001b[0;34m.\u001b[0m\u001b[0moptions\u001b[0m\u001b[0;34m[\u001b[0m\u001b[0;34m\"has_index_names\"\u001b[0m\u001b[0;34m]\u001b[0m \u001b[0;34m=\u001b[0m \u001b[0mkwds\u001b[0m\u001b[0;34m[\u001b[0m\u001b[0;34m\"has_index_names\"\u001b[0m\u001b[0;34m]\u001b[0m\u001b[0;34m\u001b[0m\u001b[0;34m\u001b[0m\u001b[0m\n\u001b[1;32m    810\u001b[0m \u001b[0;34m\u001b[0m\u001b[0m\n\u001b[0;32m--> 811\u001b[0;31m         \u001b[0mself\u001b[0m\u001b[0;34m.\u001b[0m\u001b[0m_engine\u001b[0m \u001b[0;34m=\u001b[0m \u001b[0mself\u001b[0m\u001b[0;34m.\u001b[0m\u001b[0m_make_engine\u001b[0m\u001b[0;34m(\u001b[0m\u001b[0mself\u001b[0m\u001b[0;34m.\u001b[0m\u001b[0mengine\u001b[0m\u001b[0;34m)\u001b[0m\u001b[0;34m\u001b[0m\u001b[0;34m\u001b[0m\u001b[0m\n\u001b[0m\u001b[1;32m    812\u001b[0m \u001b[0;34m\u001b[0m\u001b[0m\n\u001b[1;32m    813\u001b[0m     \u001b[0;32mdef\u001b[0m \u001b[0mclose\u001b[0m\u001b[0;34m(\u001b[0m\u001b[0mself\u001b[0m\u001b[0;34m)\u001b[0m\u001b[0;34m:\u001b[0m\u001b[0;34m\u001b[0m\u001b[0;34m\u001b[0m\u001b[0m\n",
            "\u001b[0;32m/usr/local/lib/python3.7/dist-packages/pandas/io/parsers/readers.py\u001b[0m in \u001b[0;36m_make_engine\u001b[0;34m(self, engine)\u001b[0m\n\u001b[1;32m   1038\u001b[0m             )\n\u001b[1;32m   1039\u001b[0m         \u001b[0;31m# error: Too many arguments for \"ParserBase\"\u001b[0m\u001b[0;34m\u001b[0m\u001b[0;34m\u001b[0m\u001b[0;34m\u001b[0m\u001b[0m\n\u001b[0;32m-> 1040\u001b[0;31m         \u001b[0;32mreturn\u001b[0m \u001b[0mmapping\u001b[0m\u001b[0;34m[\u001b[0m\u001b[0mengine\u001b[0m\u001b[0;34m]\u001b[0m\u001b[0;34m(\u001b[0m\u001b[0mself\u001b[0m\u001b[0;34m.\u001b[0m\u001b[0mf\u001b[0m\u001b[0;34m,\u001b[0m \u001b[0;34m**\u001b[0m\u001b[0mself\u001b[0m\u001b[0;34m.\u001b[0m\u001b[0moptions\u001b[0m\u001b[0;34m)\u001b[0m  \u001b[0;31m# type: ignore[call-arg]\u001b[0m\u001b[0;34m\u001b[0m\u001b[0;34m\u001b[0m\u001b[0m\n\u001b[0m\u001b[1;32m   1041\u001b[0m \u001b[0;34m\u001b[0m\u001b[0m\n\u001b[1;32m   1042\u001b[0m     \u001b[0;32mdef\u001b[0m \u001b[0m_failover_to_python\u001b[0m\u001b[0;34m(\u001b[0m\u001b[0mself\u001b[0m\u001b[0;34m)\u001b[0m\u001b[0;34m:\u001b[0m\u001b[0;34m\u001b[0m\u001b[0;34m\u001b[0m\u001b[0m\n",
            "\u001b[0;32m/usr/local/lib/python3.7/dist-packages/pandas/io/parsers/c_parser_wrapper.py\u001b[0m in \u001b[0;36m__init__\u001b[0;34m(self, src, **kwds)\u001b[0m\n\u001b[1;32m     49\u001b[0m \u001b[0;34m\u001b[0m\u001b[0m\n\u001b[1;32m     50\u001b[0m         \u001b[0;31m# open handles\u001b[0m\u001b[0;34m\u001b[0m\u001b[0;34m\u001b[0m\u001b[0;34m\u001b[0m\u001b[0m\n\u001b[0;32m---> 51\u001b[0;31m         \u001b[0mself\u001b[0m\u001b[0;34m.\u001b[0m\u001b[0m_open_handles\u001b[0m\u001b[0;34m(\u001b[0m\u001b[0msrc\u001b[0m\u001b[0;34m,\u001b[0m \u001b[0mkwds\u001b[0m\u001b[0;34m)\u001b[0m\u001b[0;34m\u001b[0m\u001b[0;34m\u001b[0m\u001b[0m\n\u001b[0m\u001b[1;32m     52\u001b[0m         \u001b[0;32massert\u001b[0m \u001b[0mself\u001b[0m\u001b[0;34m.\u001b[0m\u001b[0mhandles\u001b[0m \u001b[0;32mis\u001b[0m \u001b[0;32mnot\u001b[0m \u001b[0;32mNone\u001b[0m\u001b[0;34m\u001b[0m\u001b[0;34m\u001b[0m\u001b[0m\n\u001b[1;32m     53\u001b[0m \u001b[0;34m\u001b[0m\u001b[0m\n",
            "\u001b[0;32m/usr/local/lib/python3.7/dist-packages/pandas/io/parsers/base_parser.py\u001b[0m in \u001b[0;36m_open_handles\u001b[0;34m(self, src, kwds)\u001b[0m\n\u001b[1;32m    227\u001b[0m             \u001b[0mmemory_map\u001b[0m\u001b[0;34m=\u001b[0m\u001b[0mkwds\u001b[0m\u001b[0;34m.\u001b[0m\u001b[0mget\u001b[0m\u001b[0;34m(\u001b[0m\u001b[0;34m\"memory_map\"\u001b[0m\u001b[0;34m,\u001b[0m \u001b[0;32mFalse\u001b[0m\u001b[0;34m)\u001b[0m\u001b[0;34m,\u001b[0m\u001b[0;34m\u001b[0m\u001b[0;34m\u001b[0m\u001b[0m\n\u001b[1;32m    228\u001b[0m             \u001b[0mstorage_options\u001b[0m\u001b[0;34m=\u001b[0m\u001b[0mkwds\u001b[0m\u001b[0;34m.\u001b[0m\u001b[0mget\u001b[0m\u001b[0;34m(\u001b[0m\u001b[0;34m\"storage_options\"\u001b[0m\u001b[0;34m,\u001b[0m \u001b[0;32mNone\u001b[0m\u001b[0;34m)\u001b[0m\u001b[0;34m,\u001b[0m\u001b[0;34m\u001b[0m\u001b[0;34m\u001b[0m\u001b[0m\n\u001b[0;32m--> 229\u001b[0;31m             \u001b[0merrors\u001b[0m\u001b[0;34m=\u001b[0m\u001b[0mkwds\u001b[0m\u001b[0;34m.\u001b[0m\u001b[0mget\u001b[0m\u001b[0;34m(\u001b[0m\u001b[0;34m\"encoding_errors\"\u001b[0m\u001b[0;34m,\u001b[0m \u001b[0;34m\"strict\"\u001b[0m\u001b[0;34m)\u001b[0m\u001b[0;34m,\u001b[0m\u001b[0;34m\u001b[0m\u001b[0;34m\u001b[0m\u001b[0m\n\u001b[0m\u001b[1;32m    230\u001b[0m         )\n\u001b[1;32m    231\u001b[0m \u001b[0;34m\u001b[0m\u001b[0m\n",
            "\u001b[0;32m/usr/local/lib/python3.7/dist-packages/pandas/io/common.py\u001b[0m in \u001b[0;36mget_handle\u001b[0;34m(path_or_buf, mode, encoding, compression, memory_map, is_text, errors, storage_options)\u001b[0m\n\u001b[1;32m    705\u001b[0m                 \u001b[0mencoding\u001b[0m\u001b[0;34m=\u001b[0m\u001b[0mioargs\u001b[0m\u001b[0;34m.\u001b[0m\u001b[0mencoding\u001b[0m\u001b[0;34m,\u001b[0m\u001b[0;34m\u001b[0m\u001b[0;34m\u001b[0m\u001b[0m\n\u001b[1;32m    706\u001b[0m                 \u001b[0merrors\u001b[0m\u001b[0;34m=\u001b[0m\u001b[0merrors\u001b[0m\u001b[0;34m,\u001b[0m\u001b[0;34m\u001b[0m\u001b[0;34m\u001b[0m\u001b[0m\n\u001b[0;32m--> 707\u001b[0;31m                 \u001b[0mnewline\u001b[0m\u001b[0;34m=\u001b[0m\u001b[0;34m\"\"\u001b[0m\u001b[0;34m,\u001b[0m\u001b[0;34m\u001b[0m\u001b[0;34m\u001b[0m\u001b[0m\n\u001b[0m\u001b[1;32m    708\u001b[0m             )\n\u001b[1;32m    709\u001b[0m         \u001b[0;32melse\u001b[0m\u001b[0;34m:\u001b[0m\u001b[0;34m\u001b[0m\u001b[0;34m\u001b[0m\u001b[0m\n",
            "\u001b[0;31mFileNotFoundError\u001b[0m: [Errno 2] No such file or directory: '/content/data (1).csv'"
          ]
        }
      ],
      "source": [
        "\n",
        "df = pd.read_csv(\"/content/data (1).csv\", index_col = 0)\n",
        "df = df.head(1500)\n",
        "\n",
        "df.loc[df.sel == 'aufgenommen', 'sel']  = 1\n",
        "df.loc[df.sel == 'nicht aufgenommen', 'sel']  = 0\n",
        "\n",
        "df = df.dropna()"
      ]
    },
    {
      "cell_type": "code",
      "execution_count": null,
      "id": "b4a7b19f-9873-471d-8232-a474e9c187f0",
      "metadata": {
        "colab": {
          "base_uri": "https://localhost:8080/",
          "height": 164
        },
        "id": "b4a7b19f-9873-471d-8232-a474e9c187f0",
        "outputId": "9302c3e2-f25e-468e-dc29-1e03b0f963ff"
      },
      "outputs": [
        {
          "output_type": "error",
          "ename": "NameError",
          "evalue": "ignored",
          "traceback": [
            "\u001b[0;31m---------------------------------------------------------------------------\u001b[0m",
            "\u001b[0;31mNameError\u001b[0m                                 Traceback (most recent call last)",
            "\u001b[0;32m<ipython-input-6-2783dd0c2146>\u001b[0m in \u001b[0;36m<module>\u001b[0;34m()\u001b[0m\n\u001b[0;32m----> 1\u001b[0;31m \u001b[0mdf\u001b[0m\u001b[0;34m\u001b[0m\u001b[0;34m\u001b[0m\u001b[0m\n\u001b[0m",
            "\u001b[0;31mNameError\u001b[0m: name 'df' is not defined"
          ]
        }
      ],
      "source": [
        "df "
      ]
    },
    {
      "cell_type": "code",
      "execution_count": null,
      "id": "fc90a529-f96a-448a-851f-35ac2f5bc595",
      "metadata": {
        "id": "fc90a529-f96a-448a-851f-35ac2f5bc595",
        "outputId": "f7fcdf7f-9754-461b-d711-9dd83b39c45c",
        "colab": {
          "base_uri": "https://localhost:8080/",
          "height": 232
        }
      },
      "outputs": [
        {
          "output_type": "error",
          "ename": "NameError",
          "evalue": "ignored",
          "traceback": [
            "\u001b[0;31m---------------------------------------------------------------------------\u001b[0m",
            "\u001b[0;31mNameError\u001b[0m                                 Traceback (most recent call last)",
            "\u001b[0;32m<ipython-input-7-94b471a15b9a>\u001b[0m in \u001b[0;36m<module>\u001b[0;34m()\u001b[0m\n\u001b[0;32m----> 1\u001b[0;31m \u001b[0mX\u001b[0m \u001b[0;34m=\u001b[0m \u001b[0mdf\u001b[0m\u001b[0;34m.\u001b[0m\u001b[0mdrop\u001b[0m\u001b[0;34m(\u001b[0m\u001b[0;34m[\u001b[0m\u001b[0;34m'sel'\u001b[0m\u001b[0;34m]\u001b[0m\u001b[0;34m,\u001b[0m \u001b[0maxis\u001b[0m \u001b[0;34m=\u001b[0m \u001b[0;36m1\u001b[0m\u001b[0;34m)\u001b[0m \u001b[0;31m#independent variable\u001b[0m\u001b[0;34m\u001b[0m\u001b[0;34m\u001b[0m\u001b[0m\n\u001b[0m\u001b[1;32m      2\u001b[0m \u001b[0my\u001b[0m \u001b[0;34m=\u001b[0m \u001b[0mdf\u001b[0m\u001b[0;34m[\u001b[0m\u001b[0;34m'sel'\u001b[0m\u001b[0;34m]\u001b[0m\u001b[0;34m\u001b[0m\u001b[0;34m\u001b[0m\u001b[0m\n\u001b[1;32m      3\u001b[0m \u001b[0mX\u001b[0m \u001b[0;34m=\u001b[0m \u001b[0mpd\u001b[0m\u001b[0;34m.\u001b[0m\u001b[0mget_dummies\u001b[0m\u001b[0;34m(\u001b[0m\u001b[0mX\u001b[0m\u001b[0;34m)\u001b[0m\u001b[0;34m\u001b[0m\u001b[0;34m\u001b[0m\u001b[0m\n\u001b[1;32m      4\u001b[0m \u001b[0;32mfrom\u001b[0m \u001b[0msklearn\u001b[0m\u001b[0;34m.\u001b[0m\u001b[0mmodel_selection\u001b[0m \u001b[0;32mimport\u001b[0m \u001b[0mtrain_test_split\u001b[0m\u001b[0;34m\u001b[0m\u001b[0;34m\u001b[0m\u001b[0m\n\u001b[1;32m      5\u001b[0m \u001b[0mX_train\u001b[0m\u001b[0;34m,\u001b[0m \u001b[0mX_test\u001b[0m\u001b[0;34m,\u001b[0m \u001b[0my_train\u001b[0m\u001b[0;34m,\u001b[0m \u001b[0my_test\u001b[0m \u001b[0;34m=\u001b[0m \u001b[0mtrain_test_split\u001b[0m\u001b[0;34m(\u001b[0m\u001b[0mX\u001b[0m\u001b[0;34m,\u001b[0m \u001b[0my\u001b[0m\u001b[0;34m,\u001b[0m \u001b[0mtest_size\u001b[0m\u001b[0;34m=\u001b[0m\u001b[0;36m0.20\u001b[0m\u001b[0;34m,\u001b[0m \u001b[0mrandom_state\u001b[0m\u001b[0;34m=\u001b[0m\u001b[0;36m1\u001b[0m\u001b[0;34m)\u001b[0m \u001b[0;31m#train\u001b[0m\u001b[0;34m\u001b[0m\u001b[0;34m\u001b[0m\u001b[0m\n",
            "\u001b[0;31mNameError\u001b[0m: name 'df' is not defined"
          ]
        }
      ],
      "source": [
        "X = df.drop(['sel'], axis = 1) #independent variable\n",
        "y = df['sel'] \n",
        "X = pd.get_dummies(X)\n",
        "from sklearn.model_selection import train_test_split\n",
        "X_train, X_test, y_train, y_test = train_test_split(X, y, test_size=0.20, random_state=1) #train"
      ]
    },
    {
      "cell_type": "markdown",
      "id": "88f0b0b7-5aa0-411c-b396-dfd27ae41df4",
      "metadata": {
        "id": "88f0b0b7-5aa0-411c-b396-dfd27ae41df4"
      },
      "source": [
        "# Neural Network"
      ]
    },
    {
      "cell_type": "code",
      "execution_count": null,
      "id": "d7a928e0-89a0-4968-a1fd-e377e796b263",
      "metadata": {
        "id": "d7a928e0-89a0-4968-a1fd-e377e796b263"
      },
      "outputs": [],
      "source": [
        "from keras.wrappers.scikit_learn import KerasClassifier\n",
        "from keras.models import Sequential\n",
        "from keras.layers import Dense, Dropout"
      ]
    },
    {
      "cell_type": "code",
      "execution_count": null,
      "id": "9bf94280-2e68-4aa7-8c5a-ffb13d3f5fe4",
      "metadata": {
        "id": "9bf94280-2e68-4aa7-8c5a-ffb13d3f5fe4"
      },
      "outputs": [],
      "source": [
        "def build_classifier(optimizer):\n",
        "    classifier = Sequential()\n",
        "    classifier.add(Dense(units=10,kernel_initializer='uniform',activation='relu',input_dim = X.shape[1])) #classifier\n",
        "    classifier.add(Dropout(rate = 0.2)) #reduce overfitting\n",
        "    classifier.add(Dense(units=128,kernel_initializer='uniform',activation='relu')) #hidden layer\n",
        "    classifier.add(Dropout(rate = 0.2)) #reduce overfitting\n",
        "    classifier.add(Dense(units=1,kernel_initializer='uniform',activation='sigmoid')) #output layer\n",
        "    classifier.compile(optimizer=optimizer,loss='binary_crossentropy',metrics=['accuracy'])\n",
        "    return classifier"
      ]
    },
    {
      "cell_type": "code",
      "execution_count": null,
      "id": "4950b137-d73f-4a9d-aba7-8de0d4a3d05b",
      "metadata": {
        "colab": {
          "base_uri": "https://localhost:8080/"
        },
        "id": "4950b137-d73f-4a9d-aba7-8de0d4a3d05b",
        "outputId": "59a75f65-a78a-4805-e9e6-9f33f160f22e"
      },
      "outputs": [
        {
          "output_type": "stream",
          "name": "stdout",
          "text": [
            "Epoch 1/50\n",
            "30/30 [==============================] - 1s 8ms/step - loss: 0.6906 - accuracy: 0.5349 - val_loss: 0.6854 - val_accuracy: 0.5833\n",
            "Epoch 2/50\n",
            "30/30 [==============================] - 0s 3ms/step - loss: 0.6847 - accuracy: 0.5860 - val_loss: 0.6768 - val_accuracy: 0.7208\n",
            "Epoch 3/50\n",
            "30/30 [==============================] - 0s 3ms/step - loss: 0.6694 - accuracy: 0.6298 - val_loss: 0.6545 - val_accuracy: 0.7208\n",
            "Epoch 4/50\n",
            "30/30 [==============================] - 0s 3ms/step - loss: 0.6357 - accuracy: 0.6705 - val_loss: 0.6120 - val_accuracy: 0.6833\n",
            "Epoch 5/50\n",
            "30/30 [==============================] - 0s 3ms/step - loss: 0.6164 - accuracy: 0.6736 - val_loss: 0.6170 - val_accuracy: 0.6750\n",
            "Epoch 6/50\n",
            "30/30 [==============================] - 0s 3ms/step - loss: 0.5911 - accuracy: 0.6830 - val_loss: 0.5784 - val_accuracy: 0.7208\n",
            "Epoch 7/50\n",
            "30/30 [==============================] - 0s 2ms/step - loss: 0.5731 - accuracy: 0.7132 - val_loss: 0.5761 - val_accuracy: 0.7292\n",
            "Epoch 8/50\n",
            "30/30 [==============================] - 0s 3ms/step - loss: 0.5642 - accuracy: 0.7205 - val_loss: 0.5648 - val_accuracy: 0.7292\n",
            "Epoch 9/50\n",
            "30/30 [==============================] - 0s 3ms/step - loss: 0.5475 - accuracy: 0.7372 - val_loss: 0.5188 - val_accuracy: 0.7500\n",
            "Epoch 10/50\n",
            "30/30 [==============================] - 0s 3ms/step - loss: 0.5263 - accuracy: 0.7529 - val_loss: 0.5072 - val_accuracy: 0.7792\n",
            "Epoch 11/50\n",
            "30/30 [==============================] - 0s 3ms/step - loss: 0.5278 - accuracy: 0.7424 - val_loss: 0.5511 - val_accuracy: 0.7333\n",
            "Epoch 12/50\n",
            "30/30 [==============================] - 0s 3ms/step - loss: 0.5158 - accuracy: 0.7612 - val_loss: 0.4916 - val_accuracy: 0.7833\n",
            "Epoch 13/50\n",
            "30/30 [==============================] - 0s 3ms/step - loss: 0.5217 - accuracy: 0.7424 - val_loss: 0.4808 - val_accuracy: 0.8000\n",
            "Epoch 14/50\n",
            "30/30 [==============================] - 0s 3ms/step - loss: 0.5179 - accuracy: 0.7518 - val_loss: 0.5046 - val_accuracy: 0.7667\n",
            "Epoch 15/50\n",
            "30/30 [==============================] - 0s 3ms/step - loss: 0.5033 - accuracy: 0.7685 - val_loss: 0.4903 - val_accuracy: 0.7792\n",
            "Epoch 16/50\n",
            "30/30 [==============================] - 0s 3ms/step - loss: 0.4997 - accuracy: 0.7654 - val_loss: 0.4570 - val_accuracy: 0.8083\n",
            "Epoch 17/50\n",
            "30/30 [==============================] - 0s 3ms/step - loss: 0.4724 - accuracy: 0.7883 - val_loss: 0.4419 - val_accuracy: 0.8417\n",
            "Epoch 18/50\n",
            "30/30 [==============================] - 0s 3ms/step - loss: 0.4934 - accuracy: 0.7675 - val_loss: 0.4389 - val_accuracy: 0.8083\n",
            "Epoch 19/50\n",
            "30/30 [==============================] - 0s 2ms/step - loss: 0.4734 - accuracy: 0.7935 - val_loss: 0.4321 - val_accuracy: 0.8167\n",
            "Epoch 20/50\n",
            "30/30 [==============================] - 0s 3ms/step - loss: 0.4589 - accuracy: 0.7883 - val_loss: 0.4334 - val_accuracy: 0.8250\n",
            "Epoch 21/50\n",
            "30/30 [==============================] - 0s 2ms/step - loss: 0.5023 - accuracy: 0.7643 - val_loss: 0.4123 - val_accuracy: 0.8458\n",
            "Epoch 22/50\n",
            "30/30 [==============================] - 0s 3ms/step - loss: 0.4641 - accuracy: 0.7873 - val_loss: 0.4589 - val_accuracy: 0.8042\n",
            "Epoch 23/50\n",
            "30/30 [==============================] - 0s 3ms/step - loss: 0.4619 - accuracy: 0.7935 - val_loss: 0.4385 - val_accuracy: 0.8250\n",
            "Epoch 24/50\n",
            "30/30 [==============================] - 0s 2ms/step - loss: 0.4581 - accuracy: 0.7789 - val_loss: 0.4192 - val_accuracy: 0.8292\n",
            "Epoch 25/50\n",
            "30/30 [==============================] - 0s 3ms/step - loss: 0.4517 - accuracy: 0.7800 - val_loss: 0.4058 - val_accuracy: 0.8708\n",
            "Epoch 26/50\n",
            "30/30 [==============================] - 0s 3ms/step - loss: 0.4503 - accuracy: 0.7998 - val_loss: 0.3989 - val_accuracy: 0.8542\n",
            "Epoch 27/50\n",
            "30/30 [==============================] - 0s 3ms/step - loss: 0.4464 - accuracy: 0.8081 - val_loss: 0.4155 - val_accuracy: 0.8375\n",
            "Epoch 28/50\n",
            "30/30 [==============================] - 0s 3ms/step - loss: 0.4322 - accuracy: 0.8060 - val_loss: 0.3900 - val_accuracy: 0.8750\n",
            "Epoch 29/50\n",
            "30/30 [==============================] - 0s 3ms/step - loss: 0.4474 - accuracy: 0.7904 - val_loss: 0.4062 - val_accuracy: 0.8375\n",
            "Epoch 30/50\n",
            "30/30 [==============================] - 0s 3ms/step - loss: 0.4356 - accuracy: 0.8008 - val_loss: 0.4001 - val_accuracy: 0.8417\n",
            "Epoch 31/50\n",
            "30/30 [==============================] - 0s 3ms/step - loss: 0.4416 - accuracy: 0.8050 - val_loss: 0.3861 - val_accuracy: 0.8625\n",
            "Epoch 32/50\n",
            "30/30 [==============================] - 0s 3ms/step - loss: 0.4202 - accuracy: 0.8123 - val_loss: 0.4132 - val_accuracy: 0.8333\n",
            "Epoch 33/50\n",
            "30/30 [==============================] - 0s 3ms/step - loss: 0.4177 - accuracy: 0.8248 - val_loss: 0.3824 - val_accuracy: 0.8667\n",
            "Epoch 34/50\n",
            "30/30 [==============================] - 0s 3ms/step - loss: 0.4263 - accuracy: 0.8071 - val_loss: 0.3852 - val_accuracy: 0.8542\n",
            "Epoch 35/50\n",
            "30/30 [==============================] - 0s 3ms/step - loss: 0.4339 - accuracy: 0.8175 - val_loss: 0.4191 - val_accuracy: 0.8250\n",
            "Epoch 36/50\n",
            "30/30 [==============================] - 0s 4ms/step - loss: 0.4085 - accuracy: 0.8363 - val_loss: 0.4020 - val_accuracy: 0.8333\n",
            "Epoch 37/50\n",
            "30/30 [==============================] - 0s 3ms/step - loss: 0.4060 - accuracy: 0.8238 - val_loss: 0.3777 - val_accuracy: 0.8583\n",
            "Epoch 38/50\n",
            "30/30 [==============================] - 0s 3ms/step - loss: 0.4158 - accuracy: 0.8102 - val_loss: 0.4002 - val_accuracy: 0.8417\n",
            "Epoch 39/50\n",
            "30/30 [==============================] - 0s 3ms/step - loss: 0.3953 - accuracy: 0.8384 - val_loss: 0.3895 - val_accuracy: 0.8583\n",
            "Epoch 40/50\n",
            "30/30 [==============================] - 0s 3ms/step - loss: 0.4132 - accuracy: 0.8144 - val_loss: 0.3686 - val_accuracy: 0.8667\n",
            "Epoch 41/50\n",
            "30/30 [==============================] - 0s 3ms/step - loss: 0.4047 - accuracy: 0.8248 - val_loss: 0.3648 - val_accuracy: 0.8667\n",
            "Epoch 42/50\n",
            "30/30 [==============================] - 0s 3ms/step - loss: 0.4118 - accuracy: 0.8238 - val_loss: 0.3772 - val_accuracy: 0.8500\n",
            "Epoch 43/50\n",
            "30/30 [==============================] - 0s 3ms/step - loss: 0.3988 - accuracy: 0.8269 - val_loss: 0.3740 - val_accuracy: 0.8500\n",
            "Epoch 44/50\n",
            "30/30 [==============================] - 0s 3ms/step - loss: 0.4090 - accuracy: 0.8269 - val_loss: 0.3845 - val_accuracy: 0.8417\n",
            "Epoch 45/50\n",
            "30/30 [==============================] - 0s 3ms/step - loss: 0.3823 - accuracy: 0.8321 - val_loss: 0.3694 - val_accuracy: 0.8583\n",
            "Epoch 46/50\n",
            "30/30 [==============================] - 0s 3ms/step - loss: 0.4148 - accuracy: 0.8154 - val_loss: 0.3871 - val_accuracy: 0.8500\n",
            "Epoch 47/50\n",
            "30/30 [==============================] - 0s 3ms/step - loss: 0.4154 - accuracy: 0.8269 - val_loss: 0.3720 - val_accuracy: 0.8583\n",
            "Epoch 48/50\n",
            "30/30 [==============================] - 0s 3ms/step - loss: 0.3950 - accuracy: 0.8206 - val_loss: 0.3580 - val_accuracy: 0.8750\n",
            "Epoch 49/50\n",
            "30/30 [==============================] - 0s 3ms/step - loss: 0.4056 - accuracy: 0.8342 - val_loss: 0.3534 - val_accuracy: 0.8833\n",
            "Epoch 50/50\n",
            "30/30 [==============================] - 0s 3ms/step - loss: 0.4081 - accuracy: 0.8186 - val_loss: 0.3620 - val_accuracy: 0.8500\n"
          ]
        }
      ],
      "source": [
        "tf.random.set_seed(3)\n",
        "classifier = KerasClassifier(build_fn = build_classifier,\n",
        "                             optimizer=\"Adam\",\n",
        "                             batch_size=32,\n",
        "                             epochs=50)\n",
        "\n",
        "history = classifier.fit(X_train, y_train, validation_split=0.2, verbose=1)"
      ]
    },
    {
      "cell_type": "code",
      "execution_count": null,
      "id": "a795a6f0-a27b-4669-a267-280d3bfc0db4",
      "metadata": {
        "colab": {
          "base_uri": "https://localhost:8080/",
          "height": 295
        },
        "id": "a795a6f0-a27b-4669-a267-280d3bfc0db4",
        "outputId": "26e8b74d-f3ff-494d-f098-fbd2abe1cc2f"
      },
      "outputs": [
        {
          "output_type": "display_data",
          "data": {
            "text/plain": [
              "<Figure size 432x288 with 1 Axes>"
            ],
            "image/png": "[encoded data removed]"
          },
          "metadata": {
            "needs_background": "light"
          }
        }
      ],
      "source": [
        "plt.plot(history.history['accuracy'])\n",
        "plt.plot(history.history['val_accuracy'])\n",
        "plt.title('model accuracy')\n",
        "plt.ylabel('accuracy')\n",
        "plt.xlabel('epoch')\n",
        "plt.legend(['train', 'val'], loc='upper left')\n",
        "plt.savefig('neural_network.png')\n",
        "#plt.show()"
      ]
    },
    {
      "cell_type": "code",
      "execution_count": null,
      "id": "fea0c51a-e772-4fa3-8d46-20a4454330f7",
      "metadata": {
        "colab": {
          "base_uri": "https://localhost:8080/"
        },
        "id": "fea0c51a-e772-4fa3-8d46-20a4454330f7",
        "outputId": "59e6986a-ba25-4ddb-f905-9c735f641e07"
      },
      "outputs": [
        {
          "output_type": "execute_result",
          "data": {
            "text/plain": [
              "0.8114166724681854"
            ]
          },
          "metadata": {},
          "execution_count": 32
        }
      ],
      "source": [
        "np.mean(history.history['val_accuracy']).mean()"
      ]
    },
    {
      "cell_type": "code",
      "execution_count": null,
      "id": "47d7105c-36b8-486a-a36a-a9cf2900defc",
      "metadata": {
        "colab": {
          "base_uri": "https://localhost:8080/",
          "height": 265
        },
        "id": "47d7105c-36b8-486a-a36a-a9cf2900defc",
        "outputId": "6d7a0dc9-4351-4df6-86c3-1f9f870bfef9"
      },
      "outputs": [
        {
          "output_type": "display_data",
          "data": {
            "text/plain": [
              "<Figure size 432x288 with 1 Axes>"
            ],
            "image/png": "[encoded data removed]"
          },
          "metadata": {
            "needs_background": "light"
          }
        }
      ],
      "source": [
        "from sklearn.metrics import roc_curve, auc\n",
        "y_test = np.array(y_test).astype(int)\n",
        "y_pred = classifier.predict(X_test).ravel()\n",
        "y_pred = y_pred.astype(int)\n",
        "nn_fpr_keras, nn_tpr_keras, nn_thresholds_keras = roc_curve(y_test, y_pred)\n",
        "auc_keras = auc(nn_fpr_keras, nn_tpr_keras)\n",
        "plt.plot(nn_fpr_keras, nn_tpr_keras, marker='.', label='Neural Network (auc = %0.3f)' % auc_keras)\n",
        "plt.savefig('roc_nn.png')"
      ]
    },
    {
      "cell_type": "markdown",
      "id": "03e288a7-3609-4a73-9c01-db5de82697a9",
      "metadata": {
        "id": "03e288a7-3609-4a73-9c01-db5de82697a9"
      },
      "source": [
        "# Multiple Layer Neural Network"
      ]
    },
    {
      "cell_type": "code",
      "execution_count": null,
      "id": "9d17640c-6529-46ba-ac0e-4ea8128b2539",
      "metadata": {
        "id": "9d17640c-6529-46ba-ac0e-4ea8128b2539"
      },
      "outputs": [],
      "source": [
        "def build_classifier(optimizer):\n",
        "    classifier = Sequential()\n",
        "    classifier.add(Dense(units=10,kernel_initializer='uniform',activation='relu',input_dim= X.shape[1])) #classifier\n",
        "    classifier.add(Dropout(rate = 0.2)) #reduce overfitting\n",
        "    classifier.add(Dense(units=64,kernel_initializer='uniform',activation='relu')) #hidden layer\n",
        "    classifier.add(Dropout(rate = 0.2)) #reduce overfitting\n",
        "    classifier.add(Dense(units=128,kernel_initializer='uniform',activation='relu')) #hidden layer\n",
        "    classifier.add(Dropout(rate = 0.2)) #reduce overfitting\n",
        "    classifier.add(Dense(units=1,kernel_initializer='uniform',activation='sigmoid')) #output layer\n",
        "    classifier.compile(optimizer=optimizer,loss='binary_crossentropy',metrics=['accuracy'])\n",
        "    return classifier"
      ]
    },
    {
      "cell_type": "code",
      "execution_count": null,
      "id": "867315d6-dc29-4b02-93eb-ae77811bd78f",
      "metadata": {
        "id": "867315d6-dc29-4b02-93eb-ae77811bd78f"
      },
      "outputs": [],
      "source": [
        "tf.random.set_seed(20)\n",
        "classifier = KerasClassifier(build_fn = build_classifier,\n",
        "                             optimizer=\"Adam\",\n",
        "                             batch_size=64,\n",
        "                             epochs=50)"
      ]
    },
    {
      "cell_type": "code",
      "execution_count": null,
      "id": "89f132f7-afb4-4015-a954-cd042927b744",
      "metadata": {
        "id": "89f132f7-afb4-4015-a954-cd042927b744"
      },
      "outputs": [],
      "source": [
        "from sklearn.model_selection import train_test_split\n",
        "X_train, X_test, y_train, y_test = train_test_split(X, y, test_size=0.20, random_state=1) #train"
      ]
    },
    {
      "cell_type": "code",
      "execution_count": null,
      "id": "e240b86c-26bb-497a-a5a7-019475b12960",
      "metadata": {
        "colab": {
          "base_uri": "https://localhost:8080/",
          "height": 232
        },
        "id": "e240b86c-26bb-497a-a5a7-019475b12960",
        "outputId": "2c61c34a-bbf8-4525-a39c-f87ef679aaf3"
      },
      "outputs": [
        {
          "output_type": "error",
          "ename": "NameError",
          "evalue": "ignored",
          "traceback": [
            "\u001b[0;31m---------------------------------------------------------------------------\u001b[0m",
            "\u001b[0;31mNameError\u001b[0m                                 Traceback (most recent call last)",
            "\u001b[0;32m<ipython-input-8-108d8ee5dcee>\u001b[0m in \u001b[0;36m<module>\u001b[0;34m()\u001b[0m\n\u001b[1;32m      1\u001b[0m \u001b[0mtf\u001b[0m\u001b[0;34m.\u001b[0m\u001b[0mrandom\u001b[0m\u001b[0;34m.\u001b[0m\u001b[0mset_seed\u001b[0m\u001b[0;34m(\u001b[0m\u001b[0;36m20\u001b[0m\u001b[0;34m)\u001b[0m\u001b[0;34m\u001b[0m\u001b[0;34m\u001b[0m\u001b[0m\n\u001b[0;32m----> 2\u001b[0;31m \u001b[0mhistory\u001b[0m \u001b[0;34m=\u001b[0m \u001b[0mclassifier\u001b[0m\u001b[0;34m.\u001b[0m\u001b[0mfit\u001b[0m\u001b[0;34m(\u001b[0m\u001b[0mX_train\u001b[0m\u001b[0;34m,\u001b[0m \u001b[0my_train\u001b[0m\u001b[0;34m,\u001b[0m \u001b[0mvalidation_split\u001b[0m\u001b[0;34m=\u001b[0m\u001b[0;36m0.2\u001b[0m\u001b[0;34m,\u001b[0m \u001b[0mverbose\u001b[0m\u001b[0;34m=\u001b[0m\u001b[0;36m0\u001b[0m\u001b[0;34m)\u001b[0m\u001b[0;34m\u001b[0m\u001b[0;34m\u001b[0m\u001b[0m\n\u001b[0m\u001b[1;32m      3\u001b[0m \u001b[0mpreds\u001b[0m \u001b[0;34m=\u001b[0m \u001b[0mclassifier\u001b[0m\u001b[0;34m.\u001b[0m\u001b[0mpredict\u001b[0m\u001b[0;34m(\u001b[0m\u001b[0mX\u001b[0m\u001b[0;34m)\u001b[0m \u001b[0;31m#to choose the best classifier # training\u001b[0m\u001b[0;34m\u001b[0m\u001b[0;34m\u001b[0m\u001b[0m\n\u001b[1;32m      4\u001b[0m \u001b[0mnp\u001b[0m\u001b[0;34m.\u001b[0m\u001b[0mmean\u001b[0m\u001b[0;34m(\u001b[0m\u001b[0mhistory\u001b[0m\u001b[0;34m.\u001b[0m\u001b[0mhistory\u001b[0m\u001b[0;34m[\u001b[0m\u001b[0;34m'val_accuracy'\u001b[0m\u001b[0;34m]\u001b[0m\u001b[0;34m)\u001b[0m\u001b[0;34m.\u001b[0m\u001b[0mmean\u001b[0m\u001b[0;34m(\u001b[0m\u001b[0;34m)\u001b[0m\u001b[0;34m\u001b[0m\u001b[0;34m\u001b[0m\u001b[0m\n\u001b[1;32m      5\u001b[0m \u001b[0;34m\u001b[0m\u001b[0m\n",
            "\u001b[0;31mNameError\u001b[0m: name 'classifier' is not defined"
          ]
        }
      ],
      "source": [
        "tf.random.set_seed(20)\n",
        "history = classifier.fit(X_train, y_train, validation_split=0.2, verbose=0)\n",
        "preds = classifier.predict(X) #to choose the best classifier # training\n",
        "np.mean(history.history['val_accuracy']).mean()\n",
        "\n",
        "plt.plot(history.history['accuracy'])\n",
        "plt.plot(history.history['val_accuracy'])\n",
        "plt.title('model accuracy')\n",
        "plt.ylabel('accuracy')\n",
        "plt.xlabel('epoch')\n",
        "plt.legend(['train', 'val'], loc='upper left')\n",
        "plt.savefig('neural_networkMNN.png')\n",
        "plt.show()"
      ]
    },
    {
      "cell_type": "code",
      "execution_count": null,
      "id": "a59d68dc-c442-4487-89c0-0fe3a49bcc8c",
      "metadata": {
        "colab": {
          "base_uri": "https://localhost:8080/",
          "height": 295
        },
        "id": "a59d68dc-c442-4487-89c0-0fe3a49bcc8c",
        "outputId": "4517ddbd-962d-4a97-a305-c51ea814dea0"
      },
      "outputs": [
        {
          "output_type": "display_data",
          "data": {
            "text/plain": [
              "<Figure size 432x288 with 1 Axes>"
            ],
            "image/png": "[encoded data removed]"
          },
          "metadata": {
            "needs_background": "light"
          }
        }
      ],
      "source": [
        "plt.plot(history.history['accuracy'])\n",
        "plt.plot(history.history['val_accuracy'])\n",
        "plt.title('model accuracy')\n",
        "plt.ylabel('accuracy')\n",
        "plt.xlabel('epoch')\n",
        "plt.legend(['train', 'val'], loc='upper left')\n",
        "plt.savefig('neural_networkMNN.png')\n",
        "plt.show()"
      ]
    },
    {
      "cell_type": "code",
      "execution_count": null,
      "id": "c0da7283-2a31-46f1-ba94-833471d0afe8",
      "metadata": {
        "colab": {
          "base_uri": "https://localhost:8080/",
          "height": 265
        },
        "id": "c0da7283-2a31-46f1-ba94-833471d0afe8",
        "outputId": "4f3c30f0-4445-4bbb-c9a6-64c4e7d14e11"
      },
      "outputs": [
        {
          "output_type": "display_data",
          "data": {
            "text/plain": [
              "<Figure size 432x288 with 1 Axes>"
            ],
            "image/png": "[encoded data removed]"
          },
          "metadata": {
            "needs_background": "light"
          }
        }
      ],
      "source": [
        "from sklearn.metrics import roc_curve, auc\n",
        "y_test = np.array(y_test).astype(int)\n",
        "y_pred = y_pred.astype(int)\n",
        "y_pred = classifier.predict(X_test).ravel()\n",
        "nn_fpr_keras, nn_tpr_keras, nn_thresholds_keras = roc_curve(y_test, y_pred)\n",
        "auc_keras = auc(nn_fpr_keras, nn_tpr_keras)\n",
        "plt.plot(nn_fpr_keras, nn_tpr_keras, marker='.', label='Neural Network (auc = %0.3f)' % auc_keras)\n",
        "plt.savefig('roc_mnn.png')"
      ]
    },
    {
      "cell_type": "code",
      "execution_count": null,
      "id": "eae38a0b-5017-49c5-ad01-68ca7edb5f21",
      "metadata": {
        "id": "eae38a0b-5017-49c5-ad01-68ca7edb5f21"
      },
      "outputs": [],
      "source": []
    }
  ],
  "metadata": {
    "kernelspec": {
      "display_name": "Python 3 (ipykernel)",
      "language": "python",
      "name": "python3"
    },
    "language_info": {
      "codemirror_mode": {
        "name": "ipython",
        "version": 3
      },
      "file_extension": ".py",
      "mimetype": "text/x-python",
      "name": "python",
      "nbconvert_exporter": "python",
      "pygments_lexer": "ipython3",
      "version": "3.10.4"
    },
    "colab": {
      "provenance": [],
      "collapsed_sections": [],
      "include_colab_link": true
    }
  },
  "nbformat": 4,
  "nbformat_minor": 5
}