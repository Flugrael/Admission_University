{
 "cells": [
  {
   "cell_type": "code",
   "execution_count": 1,
   "id": "bb0d344f-7659-4d54-be94-b15c24500cc0",
   "metadata": {},
   "outputs": [
    {
     "name": "stdout",
     "output_type": "stream",
     "text": [
      "2.8.0\n"
     ]
    }
   ],
   "source": [
    "import tensorflow as tf\n",
    "\n",
    "# Helper libraries\n",
    "import numpy as np\n",
    "import matplotlib.pyplot as plt\n",
    "import pandas as pd\n",
    "import sklearn\n",
    "import warnings\n",
    "warnings.filterwarnings('ignore')\n",
    "\n",
    "print(tf.__version__)"
   ]
  },
  {
   "cell_type": "code",
   "execution_count": 2,
   "id": "ac519a4c-18d1-4a45-a251-423b571a3f2c",
   "metadata": {},
   "outputs": [],
   "source": [
    "df = pd.read_csv(\"data.csv\", index_col = 0)\n",
    "#df = df.head(1500)\n",
    "df.loc[df.sel == 'aufgenommen', 'sel']  = 1\n",
    "\n",
    "df.loc[df.sel == 'nicht aufgenommen', 'sel']  = 0\n",
    "df = df.dropna()"
   ]
  },
  {
   "cell_type": "code",
   "execution_count": 3,
   "id": "b4a7b19f-9873-471d-8232-a474e9c187f0",
   "metadata": {},
   "outputs": [
    {
     "data": {
      "text/html": [
       "<div>\n",
       "<style scoped>\n",
       "    .dataframe tbody tr th:only-of-type {\n",
       "        vertical-align: middle;\n",
       "    }\n",
       "\n",
       "    .dataframe tbody tr th {\n",
       "        vertical-align: top;\n",
       "    }\n",
       "\n",
       "    .dataframe thead th {\n",
       "        text-align: right;\n",
       "    }\n",
       "</style>\n",
       "<table border=\"1\" class=\"dataframe\">\n",
       "  <thead>\n",
       "    <tr style=\"text-align: right;\">\n",
       "      <th></th>\n",
       "      <th>alter</th>\n",
       "      <th>Quote</th>\n",
       "      <th>Schultyp</th>\n",
       "      <th>fz_score</th>\n",
       "      <th>zf_score</th>\n",
       "      <th>gm_score</th>\n",
       "      <th>md_score</th>\n",
       "      <th>bi_score</th>\n",
       "      <th>ch_score</th>\n",
       "      <th>ph_score</th>\n",
       "      <th>ma_score</th>\n",
       "      <th>tv_score</th>\n",
       "      <th>sel</th>\n",
       "      <th>geschlecht</th>\n",
       "    </tr>\n",
       "  </thead>\n",
       "  <tbody>\n",
       "    <tr>\n",
       "      <th>0</th>\n",
       "      <td>25.0</td>\n",
       "      <td>Österreich</td>\n",
       "      <td>Gymnasium</td>\n",
       "      <td>21.0</td>\n",
       "      <td>23.0</td>\n",
       "      <td>19.0</td>\n",
       "      <td>11.0</td>\n",
       "      <td>50.0</td>\n",
       "      <td>29.0</td>\n",
       "      <td>20.0</td>\n",
       "      <td>20.0</td>\n",
       "      <td>24.0</td>\n",
       "      <td>1</td>\n",
       "      <td>w</td>\n",
       "    </tr>\n",
       "    <tr>\n",
       "      <th>1</th>\n",
       "      <td>20.0</td>\n",
       "      <td>EU</td>\n",
       "      <td>Gymnasium</td>\n",
       "      <td>19.0</td>\n",
       "      <td>26.0</td>\n",
       "      <td>17.0</td>\n",
       "      <td>12.0</td>\n",
       "      <td>45.0</td>\n",
       "      <td>26.0</td>\n",
       "      <td>16.0</td>\n",
       "      <td>18.0</td>\n",
       "      <td>24.0</td>\n",
       "      <td>1</td>\n",
       "      <td>w</td>\n",
       "    </tr>\n",
       "    <tr>\n",
       "      <th>2</th>\n",
       "      <td>19.0</td>\n",
       "      <td>Österreich</td>\n",
       "      <td>Realgymnasium</td>\n",
       "      <td>18.0</td>\n",
       "      <td>25.0</td>\n",
       "      <td>19.0</td>\n",
       "      <td>12.0</td>\n",
       "      <td>41.0</td>\n",
       "      <td>27.0</td>\n",
       "      <td>18.0</td>\n",
       "      <td>19.0</td>\n",
       "      <td>22.0</td>\n",
       "      <td>1</td>\n",
       "      <td>w</td>\n",
       "    </tr>\n",
       "    <tr>\n",
       "      <th>3</th>\n",
       "      <td>20.0</td>\n",
       "      <td>Österreich</td>\n",
       "      <td>Realgymnasium</td>\n",
       "      <td>21.0</td>\n",
       "      <td>26.0</td>\n",
       "      <td>19.0</td>\n",
       "      <td>13.0</td>\n",
       "      <td>41.0</td>\n",
       "      <td>22.0</td>\n",
       "      <td>11.0</td>\n",
       "      <td>18.0</td>\n",
       "      <td>23.0</td>\n",
       "      <td>1</td>\n",
       "      <td>m</td>\n",
       "    </tr>\n",
       "    <tr>\n",
       "      <th>4</th>\n",
       "      <td>21.0</td>\n",
       "      <td>Österreich</td>\n",
       "      <td>H.techn.u.gewerbl. Lehranstalt</td>\n",
       "      <td>21.0</td>\n",
       "      <td>21.0</td>\n",
       "      <td>19.0</td>\n",
       "      <td>12.0</td>\n",
       "      <td>44.0</td>\n",
       "      <td>24.0</td>\n",
       "      <td>18.0</td>\n",
       "      <td>19.0</td>\n",
       "      <td>23.0</td>\n",
       "      <td>1</td>\n",
       "      <td>m</td>\n",
       "    </tr>\n",
       "    <tr>\n",
       "      <th>...</th>\n",
       "      <td>...</td>\n",
       "      <td>...</td>\n",
       "      <td>...</td>\n",
       "      <td>...</td>\n",
       "      <td>...</td>\n",
       "      <td>...</td>\n",
       "      <td>...</td>\n",
       "      <td>...</td>\n",
       "      <td>...</td>\n",
       "      <td>...</td>\n",
       "      <td>...</td>\n",
       "      <td>...</td>\n",
       "      <td>...</td>\n",
       "      <td>...</td>\n",
       "    </tr>\n",
       "    <tr>\n",
       "      <th>4159</th>\n",
       "      <td>28.0</td>\n",
       "      <td>nicht EU</td>\n",
       "      <td>Humanistisches Gymnasium</td>\n",
       "      <td>9.0</td>\n",
       "      <td>6.0</td>\n",
       "      <td>5.0</td>\n",
       "      <td>2.0</td>\n",
       "      <td>8.0</td>\n",
       "      <td>9.0</td>\n",
       "      <td>6.0</td>\n",
       "      <td>0.0</td>\n",
       "      <td>2.0</td>\n",
       "      <td>0</td>\n",
       "      <td>w</td>\n",
       "    </tr>\n",
       "    <tr>\n",
       "      <th>4160</th>\n",
       "      <td>35.0</td>\n",
       "      <td>Österreich</td>\n",
       "      <td>Naturwissensch. Realgymnasium</td>\n",
       "      <td>11.0</td>\n",
       "      <td>5.0</td>\n",
       "      <td>7.0</td>\n",
       "      <td>3.0</td>\n",
       "      <td>9.0</td>\n",
       "      <td>0.0</td>\n",
       "      <td>0.0</td>\n",
       "      <td>0.0</td>\n",
       "      <td>6.0</td>\n",
       "      <td>0</td>\n",
       "      <td>m</td>\n",
       "    </tr>\n",
       "    <tr>\n",
       "      <th>4161</th>\n",
       "      <td>28.0</td>\n",
       "      <td>nicht EU</td>\n",
       "      <td>Gymnasium</td>\n",
       "      <td>4.0</td>\n",
       "      <td>10.0</td>\n",
       "      <td>6.0</td>\n",
       "      <td>1.0</td>\n",
       "      <td>12.0</td>\n",
       "      <td>4.0</td>\n",
       "      <td>1.0</td>\n",
       "      <td>5.0</td>\n",
       "      <td>4.0</td>\n",
       "      <td>0</td>\n",
       "      <td>m</td>\n",
       "    </tr>\n",
       "    <tr>\n",
       "      <th>4163</th>\n",
       "      <td>19.0</td>\n",
       "      <td>Österreich</td>\n",
       "      <td>Oberstufenrealgymnasium</td>\n",
       "      <td>4.0</td>\n",
       "      <td>4.0</td>\n",
       "      <td>6.0</td>\n",
       "      <td>3.0</td>\n",
       "      <td>12.0</td>\n",
       "      <td>7.0</td>\n",
       "      <td>3.0</td>\n",
       "      <td>5.0</td>\n",
       "      <td>6.0</td>\n",
       "      <td>0</td>\n",
       "      <td>m</td>\n",
       "    </tr>\n",
       "    <tr>\n",
       "      <th>4168</th>\n",
       "      <td>27.0</td>\n",
       "      <td>nicht EU</td>\n",
       "      <td>Gymnasium</td>\n",
       "      <td>0.0</td>\n",
       "      <td>0.0</td>\n",
       "      <td>0.0</td>\n",
       "      <td>0.0</td>\n",
       "      <td>0.0</td>\n",
       "      <td>0.0</td>\n",
       "      <td>0.0</td>\n",
       "      <td>0.0</td>\n",
       "      <td>0.0</td>\n",
       "      <td>0</td>\n",
       "      <td>m</td>\n",
       "    </tr>\n",
       "  </tbody>\n",
       "</table>\n",
       "<p>4155 rows × 14 columns</p>\n",
       "</div>"
      ],
      "text/plain": [
       "      alter       Quote                        Schultyp  fz_score  zf_score  \\\n",
       "0      25.0  Österreich                       Gymnasium      21.0      23.0   \n",
       "1      20.0          EU                       Gymnasium      19.0      26.0   \n",
       "2      19.0  Österreich                   Realgymnasium      18.0      25.0   \n",
       "3      20.0  Österreich                   Realgymnasium      21.0      26.0   \n",
       "4      21.0  Österreich  H.techn.u.gewerbl. Lehranstalt      21.0      21.0   \n",
       "...     ...         ...                             ...       ...       ...   \n",
       "4159   28.0    nicht EU        Humanistisches Gymnasium       9.0       6.0   \n",
       "4160   35.0  Österreich   Naturwissensch. Realgymnasium      11.0       5.0   \n",
       "4161   28.0    nicht EU                       Gymnasium       4.0      10.0   \n",
       "4163   19.0  Österreich         Oberstufenrealgymnasium       4.0       4.0   \n",
       "4168   27.0    nicht EU                       Gymnasium       0.0       0.0   \n",
       "\n",
       "      gm_score  md_score  bi_score  ch_score  ph_score  ma_score  tv_score  \\\n",
       "0         19.0      11.0      50.0      29.0      20.0      20.0      24.0   \n",
       "1         17.0      12.0      45.0      26.0      16.0      18.0      24.0   \n",
       "2         19.0      12.0      41.0      27.0      18.0      19.0      22.0   \n",
       "3         19.0      13.0      41.0      22.0      11.0      18.0      23.0   \n",
       "4         19.0      12.0      44.0      24.0      18.0      19.0      23.0   \n",
       "...        ...       ...       ...       ...       ...       ...       ...   \n",
       "4159       5.0       2.0       8.0       9.0       6.0       0.0       2.0   \n",
       "4160       7.0       3.0       9.0       0.0       0.0       0.0       6.0   \n",
       "4161       6.0       1.0      12.0       4.0       1.0       5.0       4.0   \n",
       "4163       6.0       3.0      12.0       7.0       3.0       5.0       6.0   \n",
       "4168       0.0       0.0       0.0       0.0       0.0       0.0       0.0   \n",
       "\n",
       "     sel geschlecht  \n",
       "0      1          w  \n",
       "1      1          w  \n",
       "2      1          w  \n",
       "3      1          m  \n",
       "4      1          m  \n",
       "...   ..        ...  \n",
       "4159   0          w  \n",
       "4160   0          m  \n",
       "4161   0          m  \n",
       "4163   0          m  \n",
       "4168   0          m  \n",
       "\n",
       "[4155 rows x 14 columns]"
      ]
     },
     "execution_count": 3,
     "metadata": {},
     "output_type": "execute_result"
    }
   ],
   "source": [
    "df"
   ]
  },
  {
   "cell_type": "code",
   "execution_count": 4,
   "id": "fc90a529-f96a-448a-851f-35ac2f5bc595",
   "metadata": {},
   "outputs": [],
   "source": [
    "X = df.drop(['sel'], axis = 1) #independent variable\n",
    "y = df['sel'] \n",
    "X = pd.get_dummies(X)\n",
    "from sklearn.model_selection import train_test_split\n",
    "X_train, X_test, y_train, y_test = train_test_split(X, y, test_size=0.20, random_state=1) #train"
   ]
  },
  {
   "cell_type": "markdown",
   "id": "88f0b0b7-5aa0-411c-b396-dfd27ae41df4",
   "metadata": {},
   "source": [
    "# Neural Network"
   ]
  },
  {
   "cell_type": "code",
   "execution_count": 5,
   "id": "d7a928e0-89a0-4968-a1fd-e377e796b263",
   "metadata": {},
   "outputs": [],
   "source": [
    "from keras.wrappers.scikit_learn import KerasClassifier\n",
    "from keras.models import Sequential\n",
    "from keras.layers import Dense, Dropout"
   ]
  },
  {
   "cell_type": "code",
   "execution_count": 6,
   "id": "9bf94280-2e68-4aa7-8c5a-ffb13d3f5fe4",
   "metadata": {},
   "outputs": [],
   "source": [
    "def build_classifier(optimizer):\n",
    "    classifier = Sequential()\n",
    "    classifier.add(Dense(units=10,kernel_initializer='uniform',activation='relu',input_dim = X.shape[1])) #classifier\n",
    "    classifier.add(Dropout(rate = 0.2)) #reduce overfitting\n",
    "    classifier.add(Dense(units=128,kernel_initializer='uniform',activation='relu')) #hidden layer\n",
    "    classifier.add(Dropout(rate = 0.2)) #reduce overfitting\n",
    "    classifier.add(Dense(units=1,kernel_initializer='uniform',activation='sigmoid')) #output layer\n",
    "    classifier.compile(optimizer=optimizer,loss='binary_crossentropy',metrics=['accuracy'])\n",
    "    return classifier"
   ]
  },
  {
   "cell_type": "code",
   "execution_count": 7,
   "id": "4950b137-d73f-4a9d-aba7-8de0d4a3d05b",
   "metadata": {},
   "outputs": [
    {
     "name": "stdout",
     "output_type": "stream",
     "text": [
      "Epoch 1/50\n"
     ]
    },
    {
     "name": "stderr",
     "output_type": "stream",
     "text": [
      "2022-05-26 14:20:30.944014: I tensorflow/core/platform/cpu_feature_guard.cc:151] This TensorFlow binary is optimized with oneAPI Deep Neural Network Library (oneDNN) to use the following CPU instructions in performance-critical operations:  SSE4.1 SSE4.2\n",
      "To enable them in other operations, rebuild TensorFlow with the appropriate compiler flags.\n"
     ]
    },
    {
     "name": "stdout",
     "output_type": "stream",
     "text": [
      "84/84 [==============================] - 0s 2ms/step - loss: 0.5312 - accuracy: 0.8278 - val_loss: 0.4579 - val_accuracy: 0.8511\n",
      "Epoch 2/50\n",
      "84/84 [==============================] - 0s 946us/step - loss: 0.4457 - accuracy: 0.8375 - val_loss: 0.3511 - val_accuracy: 0.8511\n",
      "Epoch 3/50\n",
      "84/84 [==============================] - 0s 928us/step - loss: 0.3327 - accuracy: 0.8375 - val_loss: 0.2661 - val_accuracy: 0.8511\n",
      "Epoch 4/50\n",
      "84/84 [==============================] - 0s 921us/step - loss: 0.2896 - accuracy: 0.8706 - val_loss: 0.2329 - val_accuracy: 0.9173\n",
      "Epoch 5/50\n",
      "84/84 [==============================] - 0s 895us/step - loss: 0.2603 - accuracy: 0.8928 - val_loss: 0.2255 - val_accuracy: 0.9248\n",
      "Epoch 6/50\n",
      "84/84 [==============================] - 0s 874us/step - loss: 0.2516 - accuracy: 0.8936 - val_loss: 0.2192 - val_accuracy: 0.9143\n",
      "Epoch 7/50\n",
      "84/84 [==============================] - 0s 935us/step - loss: 0.2456 - accuracy: 0.8913 - val_loss: 0.2104 - val_accuracy: 0.9248\n",
      "Epoch 8/50\n",
      "84/84 [==============================] - 0s 920us/step - loss: 0.2338 - accuracy: 0.9037 - val_loss: 0.2066 - val_accuracy: 0.9203\n",
      "Epoch 9/50\n",
      "84/84 [==============================] - 0s 912us/step - loss: 0.2210 - accuracy: 0.9112 - val_loss: 0.2119 - val_accuracy: 0.9188\n",
      "Epoch 10/50\n",
      "84/84 [==============================] - 0s 888us/step - loss: 0.2259 - accuracy: 0.9067 - val_loss: 0.1983 - val_accuracy: 0.9233\n",
      "Epoch 11/50\n",
      "84/84 [==============================] - 0s 867us/step - loss: 0.2269 - accuracy: 0.9143 - val_loss: 0.2039 - val_accuracy: 0.9248\n",
      "Epoch 12/50\n",
      "84/84 [==============================] - 0s 934us/step - loss: 0.2163 - accuracy: 0.9165 - val_loss: 0.1857 - val_accuracy: 0.9353\n",
      "Epoch 13/50\n",
      "84/84 [==============================] - 0s 875us/step - loss: 0.2206 - accuracy: 0.9161 - val_loss: 0.1848 - val_accuracy: 0.9368\n",
      "Epoch 14/50\n",
      "84/84 [==============================] - 0s 888us/step - loss: 0.2061 - accuracy: 0.9225 - val_loss: 0.1946 - val_accuracy: 0.9278\n",
      "Epoch 15/50\n",
      "84/84 [==============================] - 0s 885us/step - loss: 0.2033 - accuracy: 0.9237 - val_loss: 0.1855 - val_accuracy: 0.9368\n",
      "Epoch 16/50\n",
      "84/84 [==============================] - 0s 879us/step - loss: 0.2017 - accuracy: 0.9274 - val_loss: 0.1850 - val_accuracy: 0.9368\n",
      "Epoch 17/50\n",
      "84/84 [==============================] - 0s 896us/step - loss: 0.1972 - accuracy: 0.9316 - val_loss: 0.1966 - val_accuracy: 0.9293\n",
      "Epoch 18/50\n",
      "84/84 [==============================] - 0s 879us/step - loss: 0.2011 - accuracy: 0.9210 - val_loss: 0.1815 - val_accuracy: 0.9444\n",
      "Epoch 19/50\n",
      "84/84 [==============================] - 0s 885us/step - loss: 0.2071 - accuracy: 0.9180 - val_loss: 0.1751 - val_accuracy: 0.9414\n",
      "Epoch 20/50\n",
      "84/84 [==============================] - 0s 978us/step - loss: 0.1973 - accuracy: 0.9342 - val_loss: 0.1820 - val_accuracy: 0.9383\n",
      "Epoch 21/50\n",
      "84/84 [==============================] - 0s 878us/step - loss: 0.1886 - accuracy: 0.9319 - val_loss: 0.1719 - val_accuracy: 0.9398\n",
      "Epoch 22/50\n",
      "84/84 [==============================] - 0s 901us/step - loss: 0.1920 - accuracy: 0.9319 - val_loss: 0.1947 - val_accuracy: 0.9203\n",
      "Epoch 23/50\n",
      "84/84 [==============================] - 0s 879us/step - loss: 0.1848 - accuracy: 0.9319 - val_loss: 0.1739 - val_accuracy: 0.9444\n",
      "Epoch 24/50\n",
      "84/84 [==============================] - 0s 898us/step - loss: 0.1857 - accuracy: 0.9319 - val_loss: 0.1709 - val_accuracy: 0.9489\n",
      "Epoch 25/50\n",
      "84/84 [==============================] - 0s 940us/step - loss: 0.1911 - accuracy: 0.9331 - val_loss: 0.1770 - val_accuracy: 0.9444\n",
      "Epoch 26/50\n",
      "84/84 [==============================] - 0s 907us/step - loss: 0.1854 - accuracy: 0.9364 - val_loss: 0.1683 - val_accuracy: 0.9353\n",
      "Epoch 27/50\n",
      "84/84 [==============================] - 0s 922us/step - loss: 0.1816 - accuracy: 0.9300 - val_loss: 0.1684 - val_accuracy: 0.9444\n",
      "Epoch 28/50\n",
      "84/84 [==============================] - 0s 894us/step - loss: 0.1730 - accuracy: 0.9395 - val_loss: 0.1738 - val_accuracy: 0.9444\n",
      "Epoch 29/50\n",
      "84/84 [==============================] - 0s 884us/step - loss: 0.1782 - accuracy: 0.9376 - val_loss: 0.1728 - val_accuracy: 0.9444\n",
      "Epoch 30/50\n",
      "84/84 [==============================] - 0s 994us/step - loss: 0.1700 - accuracy: 0.9372 - val_loss: 0.1578 - val_accuracy: 0.9444\n",
      "Epoch 31/50\n",
      "84/84 [==============================] - 0s 886us/step - loss: 0.1667 - accuracy: 0.9364 - val_loss: 0.1568 - val_accuracy: 0.9444\n",
      "Epoch 32/50\n",
      "84/84 [==============================] - 0s 912us/step - loss: 0.1736 - accuracy: 0.9368 - val_loss: 0.1631 - val_accuracy: 0.9504\n",
      "Epoch 33/50\n",
      "84/84 [==============================] - 0s 881us/step - loss: 0.1822 - accuracy: 0.9346 - val_loss: 0.1883 - val_accuracy: 0.9323\n",
      "Epoch 34/50\n",
      "84/84 [==============================] - 0s 910us/step - loss: 0.1708 - accuracy: 0.9372 - val_loss: 0.1820 - val_accuracy: 0.9278\n",
      "Epoch 35/50\n",
      "84/84 [==============================] - 0s 994us/step - loss: 0.1624 - accuracy: 0.9327 - val_loss: 0.1546 - val_accuracy: 0.9534\n",
      "Epoch 36/50\n",
      "84/84 [==============================] - 0s 996us/step - loss: 0.1771 - accuracy: 0.9346 - val_loss: 0.1640 - val_accuracy: 0.9519\n",
      "Epoch 37/50\n",
      "84/84 [==============================] - 0s 1ms/step - loss: 0.1605 - accuracy: 0.9387 - val_loss: 0.1590 - val_accuracy: 0.9519\n",
      "Epoch 38/50\n",
      "84/84 [==============================] - 0s 1ms/step - loss: 0.1703 - accuracy: 0.9357 - val_loss: 0.1476 - val_accuracy: 0.9579\n",
      "Epoch 39/50\n",
      "84/84 [==============================] - 0s 1ms/step - loss: 0.1594 - accuracy: 0.9364 - val_loss: 0.1733 - val_accuracy: 0.9429\n",
      "Epoch 40/50\n",
      "84/84 [==============================] - 0s 987us/step - loss: 0.1652 - accuracy: 0.9410 - val_loss: 0.1521 - val_accuracy: 0.9549\n",
      "Epoch 41/50\n",
      "84/84 [==============================] - 0s 963us/step - loss: 0.1550 - accuracy: 0.9443 - val_loss: 0.1819 - val_accuracy: 0.9308\n",
      "Epoch 42/50\n",
      "84/84 [==============================] - 0s 899us/step - loss: 0.1731 - accuracy: 0.9319 - val_loss: 0.1568 - val_accuracy: 0.9414\n",
      "Epoch 43/50\n",
      "84/84 [==============================] - 0s 934us/step - loss: 0.1574 - accuracy: 0.9391 - val_loss: 0.1534 - val_accuracy: 0.9534\n",
      "Epoch 44/50\n",
      "84/84 [==============================] - 0s 907us/step - loss: 0.1561 - accuracy: 0.9376 - val_loss: 0.1976 - val_accuracy: 0.9173\n",
      "Epoch 45/50\n",
      "84/84 [==============================] - 0s 863us/step - loss: 0.1625 - accuracy: 0.9428 - val_loss: 0.1454 - val_accuracy: 0.9534\n",
      "Epoch 46/50\n",
      "84/84 [==============================] - 0s 891us/step - loss: 0.1459 - accuracy: 0.9443 - val_loss: 0.1392 - val_accuracy: 0.9564\n",
      "Epoch 47/50\n",
      "84/84 [==============================] - 0s 930us/step - loss: 0.1520 - accuracy: 0.9436 - val_loss: 0.1638 - val_accuracy: 0.9429\n",
      "Epoch 48/50\n",
      "84/84 [==============================] - 0s 932us/step - loss: 0.1540 - accuracy: 0.9372 - val_loss: 0.1546 - val_accuracy: 0.9474\n",
      "Epoch 49/50\n",
      "84/84 [==============================] - 0s 1ms/step - loss: 0.1538 - accuracy: 0.9391 - val_loss: 0.2587 - val_accuracy: 0.8992\n",
      "Epoch 50/50\n",
      "84/84 [==============================] - 0s 963us/step - loss: 0.1548 - accuracy: 0.9395 - val_loss: 0.1590 - val_accuracy: 0.9398\n"
     ]
    }
   ],
   "source": [
    "classifier = KerasClassifier(build_fn = build_classifier,\n",
    "                             optimizer=\"Adam\",\n",
    "                             batch_size=32,\n",
    "                             epochs=50)\n",
    "\n",
    "history = classifier.fit(X_train, y_train, validation_split=0.2, verbose=1)"
   ]
  },
  {
   "cell_type": "code",
   "execution_count": 8,
   "id": "a795a6f0-a27b-4669-a267-280d3bfc0db4",
   "metadata": {},
   "outputs": [
    {
     "data": {
      "text/plain": [
       "<matplotlib.legend.Legend at 0x1be7a2980>"
      ]
     },
     "execution_count": 8,
     "metadata": {},
     "output_type": "execute_result"
    },
    {
     "data": {
      "image/png": "[encoded data removed]",
      "text/plain": [
       "<Figure size 432x288 with 1 Axes>"
      ]
     },
     "metadata": {
      "needs_background": "light"
     },
     "output_type": "display_data"
    }
   ],
   "source": [
    "plt.plot(history.history['accuracy'])\n",
    "plt.plot(history.history['val_accuracy'])\n",
    "plt.title('model accuracy')\n",
    "plt.ylabel('accuracy')\n",
    "plt.xlabel('epoch')\n",
    "plt.legend(['train', 'val'], loc='upper left')\n",
    "#plt.show()"
   ]
  },
  {
   "cell_type": "code",
   "execution_count": 9,
   "id": "fea0c51a-e772-4fa3-8d46-20a4454330f7",
   "metadata": {},
   "outputs": [
    {
     "data": {
      "text/plain": [
       "0.9321804475784302"
      ]
     },
     "execution_count": 9,
     "metadata": {},
     "output_type": "execute_result"
    }
   ],
   "source": [
    "np.mean(history.history['val_accuracy']).mean()"
   ]
  },
  {
   "cell_type": "code",
   "execution_count": 10,
   "id": "47d7105c-36b8-486a-a36a-a9cf2900defc",
   "metadata": {},
   "outputs": [
    {
     "data": {
      "image/png": "[encoded data removed]",
      "text/plain": [
       "<Figure size 432x288 with 1 Axes>"
      ]
     },
     "metadata": {
      "needs_background": "light"
     },
     "output_type": "display_data"
    }
   ],
   "source": [
    "from sklearn.metrics import roc_curve, auc\n",
    "y_test = np.array(y_test).astype(int)\n",
    "y_pred = classifier.predict(X_test).ravel()\n",
    "y_pred = y_pred.astype(int)\n",
    "nn_fpr_keras, nn_tpr_keras, nn_thresholds_keras = roc_curve(y_test, y_pred)\n",
    "auc_keras = auc(nn_fpr_keras, nn_tpr_keras)\n",
    "plt.plot(nn_fpr_keras, nn_tpr_keras, marker='.', label='Neural Network (auc = %0.3f)' % auc_keras)\n",
    "plt.savefig('roc_nn.png')"
   ]
  },
  {
   "cell_type": "markdown",
   "id": "03e288a7-3609-4a73-9c01-db5de82697a9",
   "metadata": {},
   "source": [
    "# Multiple Layer Neural Network"
   ]
  },
  {
   "cell_type": "code",
   "execution_count": 11,
   "id": "9d17640c-6529-46ba-ac0e-4ea8128b2539",
   "metadata": {},
   "outputs": [],
   "source": [
    "def build_classifier(optimizer):\n",
    "    classifier = Sequential()\n",
    "    classifier.add(Dense(units=10,kernel_initializer='uniform',activation='relu',input_dim= X.shape[1])) #classifier\n",
    "    classifier.add(Dropout(rate = 0.2)) #reduce overfitting\n",
    "    classifier.add(Dense(units=128,kernel_initializer='uniform',activation='relu')) #hidden layer\n",
    "    classifier.add(Dropout(rate = 0.2)) #reduce overfitting\n",
    "    classifier.add(Dense(units=256,kernel_initializer='uniform',activation='relu')) #hidden layer\n",
    "    classifier.add(Dropout(rate = 0.2)) #reduce overfitting\n",
    "    classifier.add(Dense(units=1,kernel_initializer='uniform',activation='sigmoid')) #output layer\n",
    "    classifier.compile(optimizer=optimizer,loss='binary_crossentropy',metrics=['accuracy'])\n",
    "    return classifier"
   ]
  },
  {
   "cell_type": "code",
   "execution_count": 12,
   "id": "867315d6-dc29-4b02-93eb-ae77811bd78f",
   "metadata": {},
   "outputs": [],
   "source": [
    "classifier = KerasClassifier(build_fn = build_classifier,\n",
    "                             optimizer=\"Adam\",\n",
    "                             batch_size=32,\n",
    "                             epochs=50)"
   ]
  },
  {
   "cell_type": "code",
   "execution_count": 13,
   "id": "89f132f7-afb4-4015-a954-cd042927b744",
   "metadata": {},
   "outputs": [],
   "source": [
    "from sklearn.model_selection import train_test_split\n",
    "X_train, X_test, y_train, y_test = train_test_split(X, y, test_size=0.20, random_state=1) #train"
   ]
  },
  {
   "cell_type": "code",
   "execution_count": 14,
   "id": "e240b86c-26bb-497a-a5a7-019475b12960",
   "metadata": {},
   "outputs": [],
   "source": [
    "history = classifier.fit(X_train, y_train, validation_split=0.2, verbose=0)\n",
    "preds = classifier.predict(X) #to choose the best classifier # training"
   ]
  },
  {
   "cell_type": "code",
   "execution_count": 15,
   "id": "a59d68dc-c442-4487-89c0-0fe3a49bcc8c",
   "metadata": {},
   "outputs": [
    {
     "data": {
      "image/png": "[encoded data removed]",
      "text/plain": [
       "<Figure size 432x288 with 1 Axes>"
      ]
     },
     "metadata": {
      "needs_background": "light"
     },
     "output_type": "display_data"
    }
   ],
   "source": [
    "plt.plot(history.history['accuracy'])\n",
    "plt.plot(history.history['val_accuracy'])\n",
    "plt.title('model accuracy')\n",
    "plt.ylabel('accuracy')\n",
    "plt.xlabel('epoch')\n",
    "plt.legend(['train', 'val'], loc='upper left')\n",
    "plt.show()"
   ]
  },
  {
   "cell_type": "code",
   "execution_count": 16,
   "id": "5d9b927a-537d-4449-9956-cf95dc19f866",
   "metadata": {},
   "outputs": [
    {
     "data": {
      "text/plain": [
       "0.9017142844200134"
      ]
     },
     "execution_count": 16,
     "metadata": {},
     "output_type": "execute_result"
    }
   ],
   "source": [
    "np.mean(history.history['val_accuracy']).mean()"
   ]
  },
  {
   "cell_type": "code",
   "execution_count": 17,
   "id": "c0da7283-2a31-46f1-ba94-833471d0afe8",
   "metadata": {},
   "outputs": [
    {
     "data": {
      "image/png": "[encoded data removed]",
      "text/plain": [
       "<Figure size 432x288 with 1 Axes>"
      ]
     },
     "metadata": {
      "needs_background": "light"
     },
     "output_type": "display_data"
    }
   ],
   "source": [
    "from sklearn.metrics import roc_curve, auc\n",
    "y_test = np.array(y_test).astype(int)\n",
    "y_pred = y_pred.astype(int)\n",
    "y_pred = classifier.predict(X_test).ravel()\n",
    "nn_fpr_keras, nn_tpr_keras, nn_thresholds_keras = roc_curve(y_test, y_pred)\n",
    "auc_keras = auc(nn_fpr_keras, nn_tpr_keras)\n",
    "plt.plot(nn_fpr_keras, nn_tpr_keras, marker='.', label='Neural Network (auc = %0.3f)' % auc_keras)\n",
    "plt.savefig('roc_mnn.png')"
   ]
  },
  {
   "cell_type": "code",
   "execution_count": null,
   "id": "eae38a0b-5017-49c5-ad01-68ca7edb5f21",
   "metadata": {},
   "outputs": [],
   "source": []
  }
 ],
 "metadata": {
  "kernelspec": {
   "display_name": "Python 3 (ipykernel)",
   "language": "python",
   "name": "python3"
  },
  "language_info": {
   "codemirror_mode": {
    "name": "ipython",
    "version": 3
   },
   "file_extension": ".py",
   "mimetype": "text/x-python",
   "name": "python",
   "nbconvert_exporter": "python",
   "pygments_lexer": "ipython3",
   "version": "3.10.4"
  }
 },
 "nbformat": 4,
 "nbformat_minor": 5
}
